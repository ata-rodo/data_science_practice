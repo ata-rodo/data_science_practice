{
 "cells": [
  {
   "cell_type": "code",
   "execution_count": null,
   "id": "344d2792-19ac-466c-9b94-1799f578f693",
   "metadata": {},
   "outputs": [],
   "source": [
    "# Week 7 - Data Manipulation\n",
    "# data cleaning: missing variables and duplicates\n"
   ]
  },
  {
   "cell_type": "code",
   "execution_count": 29,
   "id": "55f04deb-ba9e-433a-ac7e-5d68e5fbbfe3",
   "metadata": {},
   "outputs": [
    {
     "data": {
      "text/html": [
       "<div>\n",
       "<style scoped>\n",
       "    .dataframe tbody tr th:only-of-type {\n",
       "        vertical-align: middle;\n",
       "    }\n",
       "\n",
       "    .dataframe tbody tr th {\n",
       "        vertical-align: top;\n",
       "    }\n",
       "\n",
       "    .dataframe thead th {\n",
       "        text-align: right;\n",
       "    }\n",
       "</style>\n",
       "<table border=\"1\" class=\"dataframe\">\n",
       "  <thead>\n",
       "    <tr style=\"text-align: right;\">\n",
       "      <th></th>\n",
       "      <th>Drug_ID</th>\n",
       "      <th>Drug_Name</th>\n",
       "      <th>Manufacturer</th>\n",
       "      <th>Dosage_mg</th>\n",
       "      <th>Form</th>\n",
       "      <th>Approval_Year</th>\n",
       "      <th>Price_USD</th>\n",
       "      <th>Side_Effects</th>\n",
       "      <th>Is_Generic</th>\n",
       "      <th>Country</th>\n",
       "    </tr>\n",
       "  </thead>\n",
       "  <tbody>\n",
       "    <tr>\n",
       "      <th>0</th>\n",
       "      <td>D00000</td>\n",
       "      <td>Amoxinil</td>\n",
       "      <td>CureAll</td>\n",
       "      <td>NaN</td>\n",
       "      <td>Syrup</td>\n",
       "      <td>NaN</td>\n",
       "      <td>26.02</td>\n",
       "      <td>Allergy</td>\n",
       "      <td>False</td>\n",
       "      <td>Germany</td>\n",
       "    </tr>\n",
       "    <tr>\n",
       "      <th>1</th>\n",
       "      <td>D00001</td>\n",
       "      <td>Loratamed</td>\n",
       "      <td>CureAll</td>\n",
       "      <td>500.0</td>\n",
       "      <td>Tablet</td>\n",
       "      <td>2012-07-01</td>\n",
       "      <td>41.19</td>\n",
       "      <td>NaN</td>\n",
       "      <td>False</td>\n",
       "      <td>India</td>\n",
       "    </tr>\n",
       "    <tr>\n",
       "      <th>2</th>\n",
       "      <td>D00002</td>\n",
       "      <td>Cetrazin</td>\n",
       "      <td>NaN</td>\n",
       "      <td>250.0</td>\n",
       "      <td>Syrup</td>\n",
       "      <td>2009-07-01</td>\n",
       "      <td>81.80</td>\n",
       "      <td>Nausea</td>\n",
       "      <td>True</td>\n",
       "      <td>NaN</td>\n",
       "    </tr>\n",
       "    <tr>\n",
       "      <th>3</th>\n",
       "      <td>NaN</td>\n",
       "      <td>Loratamed</td>\n",
       "      <td>CureAll</td>\n",
       "      <td>100.0</td>\n",
       "      <td>Tablet</td>\n",
       "      <td>2004-07-01</td>\n",
       "      <td>83.24</td>\n",
       "      <td>Headache</td>\n",
       "      <td>True</td>\n",
       "      <td>NaN</td>\n",
       "    </tr>\n",
       "    <tr>\n",
       "      <th>4</th>\n",
       "      <td>NaN</td>\n",
       "      <td>Loratamed</td>\n",
       "      <td>Wellness Inc.</td>\n",
       "      <td>1000.0</td>\n",
       "      <td>NaN</td>\n",
       "      <td>2018-07-01</td>\n",
       "      <td>NaN</td>\n",
       "      <td>Nausea</td>\n",
       "      <td>NaN</td>\n",
       "      <td>UK</td>\n",
       "    </tr>\n",
       "    <tr>\n",
       "      <th>...</th>\n",
       "      <td>...</td>\n",
       "      <td>...</td>\n",
       "      <td>...</td>\n",
       "      <td>...</td>\n",
       "      <td>...</td>\n",
       "      <td>...</td>\n",
       "      <td>...</td>\n",
       "      <td>...</td>\n",
       "      <td>...</td>\n",
       "      <td>...</td>\n",
       "    </tr>\n",
       "    <tr>\n",
       "      <th>1095</th>\n",
       "      <td>D00755</td>\n",
       "      <td>NaN</td>\n",
       "      <td>MediLife</td>\n",
       "      <td>NaN</td>\n",
       "      <td>Syrup</td>\n",
       "      <td>2008-07-01</td>\n",
       "      <td>70.71</td>\n",
       "      <td>Drowsiness</td>\n",
       "      <td>False</td>\n",
       "      <td>Germany</td>\n",
       "    </tr>\n",
       "    <tr>\n",
       "      <th>1096</th>\n",
       "      <td>NaN</td>\n",
       "      <td>Ibupromol</td>\n",
       "      <td>PharmaCorp</td>\n",
       "      <td>1000.0</td>\n",
       "      <td>Injection</td>\n",
       "      <td>2007-07-01</td>\n",
       "      <td>53.72</td>\n",
       "      <td>Drowsiness</td>\n",
       "      <td>True</td>\n",
       "      <td>Canada</td>\n",
       "    </tr>\n",
       "    <tr>\n",
       "      <th>1097</th>\n",
       "      <td>NaN</td>\n",
       "      <td>Cetrazin</td>\n",
       "      <td>HealthPlus</td>\n",
       "      <td>750.0</td>\n",
       "      <td>Tablet</td>\n",
       "      <td>2007-07-01</td>\n",
       "      <td>44.01</td>\n",
       "      <td>Headache</td>\n",
       "      <td>True</td>\n",
       "      <td>Canada</td>\n",
       "    </tr>\n",
       "    <tr>\n",
       "      <th>1098</th>\n",
       "      <td>D00583</td>\n",
       "      <td>NaN</td>\n",
       "      <td>MediLife</td>\n",
       "      <td>NaN</td>\n",
       "      <td>Tablet</td>\n",
       "      <td>2014-07-01</td>\n",
       "      <td>68.69</td>\n",
       "      <td>NaN</td>\n",
       "      <td>True</td>\n",
       "      <td>India</td>\n",
       "    </tr>\n",
       "    <tr>\n",
       "      <th>1099</th>\n",
       "      <td>D00324</td>\n",
       "      <td>Paracetin</td>\n",
       "      <td>MediLife</td>\n",
       "      <td>250.0</td>\n",
       "      <td>Tablet</td>\n",
       "      <td>1993-07-01</td>\n",
       "      <td>NaN</td>\n",
       "      <td>Headache</td>\n",
       "      <td>True</td>\n",
       "      <td>Germany</td>\n",
       "    </tr>\n",
       "  </tbody>\n",
       "</table>\n",
       "<p>1100 rows × 10 columns</p>\n",
       "</div>"
      ],
      "text/plain": [
       "     Drug_ID  Drug_Name   Manufacturer  Dosage_mg       Form Approval_Year  \\\n",
       "0     D00000   Amoxinil        CureAll        NaN      Syrup           NaN   \n",
       "1     D00001  Loratamed        CureAll      500.0     Tablet    2012-07-01   \n",
       "2     D00002   Cetrazin            NaN      250.0      Syrup    2009-07-01   \n",
       "3        NaN  Loratamed        CureAll      100.0     Tablet    2004-07-01   \n",
       "4        NaN  Loratamed  Wellness Inc.     1000.0        NaN    2018-07-01   \n",
       "...      ...        ...            ...        ...        ...           ...   \n",
       "1095  D00755        NaN       MediLife        NaN      Syrup    2008-07-01   \n",
       "1096     NaN  Ibupromol     PharmaCorp     1000.0  Injection    2007-07-01   \n",
       "1097     NaN   Cetrazin     HealthPlus      750.0     Tablet    2007-07-01   \n",
       "1098  D00583        NaN       MediLife        NaN     Tablet    2014-07-01   \n",
       "1099  D00324  Paracetin       MediLife      250.0     Tablet    1993-07-01   \n",
       "\n",
       "      Price_USD Side_Effects Is_Generic  Country  \n",
       "0         26.02      Allergy      False  Germany  \n",
       "1         41.19          NaN      False    India  \n",
       "2         81.80       Nausea       True      NaN  \n",
       "3         83.24     Headache       True      NaN  \n",
       "4           NaN       Nausea        NaN       UK  \n",
       "...         ...          ...        ...      ...  \n",
       "1095      70.71   Drowsiness      False  Germany  \n",
       "1096      53.72   Drowsiness       True   Canada  \n",
       "1097      44.01     Headache       True   Canada  \n",
       "1098      68.69          NaN       True    India  \n",
       "1099        NaN     Headache       True  Germany  \n",
       "\n",
       "[1100 rows x 10 columns]"
      ]
     },
     "execution_count": 29,
     "metadata": {},
     "output_type": "execute_result"
    }
   ],
   "source": [
    "# import neccesary libraries\n",
    "import pandas as pd\n",
    "\n",
    "# import data\n",
    "df = pd.read_csv(\"Updated_Drug_Dataset_with_Real_Dates.csv\")\n",
    "df"
   ]
  },
  {
   "cell_type": "code",
   "execution_count": null,
   "id": "e1b9da32-dbef-4f70-a32c-00cc29a080b5",
   "metadata": {},
   "outputs": [],
   "source": []
  },
  {
   "cell_type": "code",
   "execution_count": 11,
   "id": "1c97f95e-3cc1-4a43-8c8c-c2834f521d86",
   "metadata": {},
   "outputs": [
    {
     "name": "stdout",
     "output_type": "stream",
     "text": [
      "0\n"
     ]
    }
   ],
   "source": [
    "# check for missing values\n",
    "print(df[\"Full_Name\"].isnull().sum())"
   ]
  },
  {
   "cell_type": "code",
   "execution_count": 15,
   "id": "99b1eae7-d994-4082-99c4-22610357b202",
   "metadata": {},
   "outputs": [
    {
     "name": "stdout",
     "output_type": "stream",
     "text": [
      "Customer_ID       0.000000\n",
      "Full_Name         0.000000\n",
      "Gender            0.196850\n",
      "Age               0.000000\n",
      "State             0.000000\n",
      "Insurance_Type    0.393701\n",
      "Claim_Amount      0.000000\n",
      "Claim_Status      0.590551\n",
      "Claim_Date        0.000000\n",
      "Payment_Method    0.393701\n",
      "dtype: float64\n"
     ]
    }
   ],
   "source": [
    "# calc percentage of missing data\n",
    "print(df.isnull().mean()*100)"
   ]
  },
  {
   "cell_type": "code",
   "execution_count": 17,
   "id": "2e4192a4-db88-4a1e-bffa-fde409868013",
   "metadata": {},
   "outputs": [
    {
     "name": "stdout",
     "output_type": "stream",
     "text": [
      "Customer_ID       0\n",
      "Full_Name         0\n",
      "Gender            1\n",
      "Age               0\n",
      "State             0\n",
      "Insurance_Type    2\n",
      "Claim_Amount      0\n",
      "Claim_Status      3\n",
      "Claim_Date        0\n",
      "Payment_Method    2\n",
      "dtype: int64\n"
     ]
    }
   ],
   "source": [
    "# calc cum of missing data\n",
    "print(df.isnull().sum())"
   ]
  },
  {
   "cell_type": "code",
   "execution_count": null,
   "id": "640c32d2-8b2d-4238-8424-8786f02d6e3e",
   "metadata": {},
   "outputs": [],
   "source": [
    "# Dropping missing numbers/values (NEVER DO THIS OR SAY YOU WOULD DO THIS IN AN INTERVIEW - INSTANT FAIL!!!!!!!!!!!)\n",
    "df_clean = df.dropna()\n",
    "# df_clean"
   ]
  },
  {
   "cell_type": "code",
   "execution_count": 21,
   "id": "b7fb2a2f-8c59-41df-bef3-7848394d4d26",
   "metadata": {},
   "outputs": [
    {
     "name": "stdout",
     "output_type": "stream",
     "text": [
      "3\n"
     ]
    }
   ],
   "source": [
    "# check for missing values\n",
    "print(df[\"Claim_Status\"].isnull().sum())"
   ]
  },
  {
   "cell_type": "code",
   "execution_count": 27,
   "id": "09906a73-b923-472b-abf3-55953993fc57",
   "metadata": {},
   "outputs": [],
   "source": [
    "# fill in missing (Claim_Status with the mean)\n",
    "# df[\"Claim_Status\"] = df[\"Claim_Status\"].fillna(df[\"Claim_Status\"].mean()*100, inplace=True)"
   ]
  },
  {
   "cell_type": "code",
   "execution_count": null,
   "id": "67ddd350-c307-404b-9852-095190f939ad",
   "metadata": {},
   "outputs": [],
   "source": [
    "# Sorting data\n",
    "df_Sort_Claims_Status = "
   ]
  }
 ],
 "metadata": {
  "kernelspec": {
   "display_name": "Python [conda env:base] *",
   "language": "python",
   "name": "conda-base-py"
  },
  "language_info": {
   "codemirror_mode": {
    "name": "ipython",
    "version": 3
   },
   "file_extension": ".py",
   "mimetype": "text/x-python",
   "name": "python",
   "nbconvert_exporter": "python",
   "pygments_lexer": "ipython3",
   "version": "3.11.7"
  }
 },
 "nbformat": 4,
 "nbformat_minor": 5
}
