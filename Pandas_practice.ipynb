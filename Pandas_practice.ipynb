{
 "cells": [
  {
   "cell_type": "code",
   "execution_count": 1,
   "id": "64656989-354b-44c6-93b9-95f90b2ed965",
   "metadata": {},
   "outputs": [],
   "source": [
    "#fill in the missing variables with Amoxinil in the Drug_name column\n",
    "#fill in the missing variables with PharmaCorp in the Manufacturer column\n",
    "#fill in the missing variables with Allergy in the Side effects column\n",
    "#fill in the missing variables with Nigeria  in the Country column"
   ]
  },
  {
   "cell_type": "code",
   "execution_count": 26,
   "id": "aa4c5cc1-f55a-493e-a7a7-00b3038e9520",
   "metadata": {},
   "outputs": [
    {
     "data": {
      "text/html": [
       "<div>\n",
       "<style scoped>\n",
       "    .dataframe tbody tr th:only-of-type {\n",
       "        vertical-align: middle;\n",
       "    }\n",
       "\n",
       "    .dataframe tbody tr th {\n",
       "        vertical-align: top;\n",
       "    }\n",
       "\n",
       "    .dataframe thead th {\n",
       "        text-align: right;\n",
       "    }\n",
       "</style>\n",
       "<table border=\"1\" class=\"dataframe\">\n",
       "  <thead>\n",
       "    <tr style=\"text-align: right;\">\n",
       "      <th></th>\n",
       "      <th>Drug_ID</th>\n",
       "      <th>Drug_Name</th>\n",
       "      <th>Manufacturer</th>\n",
       "      <th>Dosage_mg</th>\n",
       "      <th>Form</th>\n",
       "      <th>Approval_Year</th>\n",
       "      <th>Price_USD</th>\n",
       "      <th>Side_Effects</th>\n",
       "      <th>Is_Generic</th>\n",
       "      <th>Country</th>\n",
       "    </tr>\n",
       "  </thead>\n",
       "  <tbody>\n",
       "    <tr>\n",
       "      <th>0</th>\n",
       "      <td>D00000</td>\n",
       "      <td>Amoxinil</td>\n",
       "      <td>CureAll</td>\n",
       "      <td>NaN</td>\n",
       "      <td>Syrup</td>\n",
       "      <td>NaN</td>\n",
       "      <td>26.02</td>\n",
       "      <td>Allergy</td>\n",
       "      <td>False</td>\n",
       "      <td>Germany</td>\n",
       "    </tr>\n",
       "    <tr>\n",
       "      <th>1</th>\n",
       "      <td>D00001</td>\n",
       "      <td>Loratamed</td>\n",
       "      <td>CureAll</td>\n",
       "      <td>500.0</td>\n",
       "      <td>Tablet</td>\n",
       "      <td>2012-07-01</td>\n",
       "      <td>41.19</td>\n",
       "      <td>NaN</td>\n",
       "      <td>False</td>\n",
       "      <td>India</td>\n",
       "    </tr>\n",
       "    <tr>\n",
       "      <th>2</th>\n",
       "      <td>D00002</td>\n",
       "      <td>Cetrazin</td>\n",
       "      <td>NaN</td>\n",
       "      <td>250.0</td>\n",
       "      <td>Syrup</td>\n",
       "      <td>2009-07-01</td>\n",
       "      <td>81.80</td>\n",
       "      <td>Nausea</td>\n",
       "      <td>True</td>\n",
       "      <td>NaN</td>\n",
       "    </tr>\n",
       "    <tr>\n",
       "      <th>3</th>\n",
       "      <td>NaN</td>\n",
       "      <td>Loratamed</td>\n",
       "      <td>CureAll</td>\n",
       "      <td>100.0</td>\n",
       "      <td>Tablet</td>\n",
       "      <td>2004-07-01</td>\n",
       "      <td>83.24</td>\n",
       "      <td>Headache</td>\n",
       "      <td>True</td>\n",
       "      <td>NaN</td>\n",
       "    </tr>\n",
       "    <tr>\n",
       "      <th>4</th>\n",
       "      <td>NaN</td>\n",
       "      <td>Loratamed</td>\n",
       "      <td>Wellness Inc.</td>\n",
       "      <td>1000.0</td>\n",
       "      <td>NaN</td>\n",
       "      <td>2018-07-01</td>\n",
       "      <td>NaN</td>\n",
       "      <td>Nausea</td>\n",
       "      <td>NaN</td>\n",
       "      <td>UK</td>\n",
       "    </tr>\n",
       "    <tr>\n",
       "      <th>...</th>\n",
       "      <td>...</td>\n",
       "      <td>...</td>\n",
       "      <td>...</td>\n",
       "      <td>...</td>\n",
       "      <td>...</td>\n",
       "      <td>...</td>\n",
       "      <td>...</td>\n",
       "      <td>...</td>\n",
       "      <td>...</td>\n",
       "      <td>...</td>\n",
       "    </tr>\n",
       "    <tr>\n",
       "      <th>1095</th>\n",
       "      <td>D00755</td>\n",
       "      <td>NaN</td>\n",
       "      <td>MediLife</td>\n",
       "      <td>NaN</td>\n",
       "      <td>Syrup</td>\n",
       "      <td>2008-07-01</td>\n",
       "      <td>70.71</td>\n",
       "      <td>Drowsiness</td>\n",
       "      <td>False</td>\n",
       "      <td>Germany</td>\n",
       "    </tr>\n",
       "    <tr>\n",
       "      <th>1096</th>\n",
       "      <td>NaN</td>\n",
       "      <td>Ibupromol</td>\n",
       "      <td>PharmaCorp</td>\n",
       "      <td>1000.0</td>\n",
       "      <td>Injection</td>\n",
       "      <td>2007-07-01</td>\n",
       "      <td>53.72</td>\n",
       "      <td>Drowsiness</td>\n",
       "      <td>True</td>\n",
       "      <td>Canada</td>\n",
       "    </tr>\n",
       "    <tr>\n",
       "      <th>1097</th>\n",
       "      <td>NaN</td>\n",
       "      <td>Cetrazin</td>\n",
       "      <td>HealthPlus</td>\n",
       "      <td>750.0</td>\n",
       "      <td>Tablet</td>\n",
       "      <td>2007-07-01</td>\n",
       "      <td>44.01</td>\n",
       "      <td>Headache</td>\n",
       "      <td>True</td>\n",
       "      <td>Canada</td>\n",
       "    </tr>\n",
       "    <tr>\n",
       "      <th>1098</th>\n",
       "      <td>D00583</td>\n",
       "      <td>NaN</td>\n",
       "      <td>MediLife</td>\n",
       "      <td>NaN</td>\n",
       "      <td>Tablet</td>\n",
       "      <td>2014-07-01</td>\n",
       "      <td>68.69</td>\n",
       "      <td>NaN</td>\n",
       "      <td>True</td>\n",
       "      <td>India</td>\n",
       "    </tr>\n",
       "    <tr>\n",
       "      <th>1099</th>\n",
       "      <td>D00324</td>\n",
       "      <td>Paracetin</td>\n",
       "      <td>MediLife</td>\n",
       "      <td>250.0</td>\n",
       "      <td>Tablet</td>\n",
       "      <td>1993-07-01</td>\n",
       "      <td>NaN</td>\n",
       "      <td>Headache</td>\n",
       "      <td>True</td>\n",
       "      <td>Germany</td>\n",
       "    </tr>\n",
       "  </tbody>\n",
       "</table>\n",
       "<p>1100 rows × 10 columns</p>\n",
       "</div>"
      ],
      "text/plain": [
       "     Drug_ID  Drug_Name   Manufacturer  Dosage_mg       Form Approval_Year  \\\n",
       "0     D00000   Amoxinil        CureAll        NaN      Syrup           NaN   \n",
       "1     D00001  Loratamed        CureAll      500.0     Tablet    2012-07-01   \n",
       "2     D00002   Cetrazin            NaN      250.0      Syrup    2009-07-01   \n",
       "3        NaN  Loratamed        CureAll      100.0     Tablet    2004-07-01   \n",
       "4        NaN  Loratamed  Wellness Inc.     1000.0        NaN    2018-07-01   \n",
       "...      ...        ...            ...        ...        ...           ...   \n",
       "1095  D00755        NaN       MediLife        NaN      Syrup    2008-07-01   \n",
       "1096     NaN  Ibupromol     PharmaCorp     1000.0  Injection    2007-07-01   \n",
       "1097     NaN   Cetrazin     HealthPlus      750.0     Tablet    2007-07-01   \n",
       "1098  D00583        NaN       MediLife        NaN     Tablet    2014-07-01   \n",
       "1099  D00324  Paracetin       MediLife      250.0     Tablet    1993-07-01   \n",
       "\n",
       "      Price_USD Side_Effects Is_Generic  Country  \n",
       "0         26.02      Allergy      False  Germany  \n",
       "1         41.19          NaN      False    India  \n",
       "2         81.80       Nausea       True      NaN  \n",
       "3         83.24     Headache       True      NaN  \n",
       "4           NaN       Nausea        NaN       UK  \n",
       "...         ...          ...        ...      ...  \n",
       "1095      70.71   Drowsiness      False  Germany  \n",
       "1096      53.72   Drowsiness       True   Canada  \n",
       "1097      44.01     Headache       True   Canada  \n",
       "1098      68.69          NaN       True    India  \n",
       "1099        NaN     Headache       True  Germany  \n",
       "\n",
       "[1100 rows x 10 columns]"
      ]
     },
     "execution_count": 26,
     "metadata": {},
     "output_type": "execute_result"
    }
   ],
   "source": [
    "# import neccesary libraries\n",
    "import pandas as pd\n",
    "\n",
    "# import data\n",
    "df = pd.read_csv(\"Updated_Drug_Dataset_with_Real_Dates.csv\")\n",
    "df"
   ]
  },
  {
   "cell_type": "code",
   "execution_count": 30,
   "id": "9bab1f43-5068-4a8d-b308-7ad43f6a8c20",
   "metadata": {},
   "outputs": [
    {
     "name": "stdout",
     "output_type": "stream",
     "text": [
      "216\n"
     ]
    }
   ],
   "source": [
    "# check for missing values in Drug_Name\n",
    "print(df[\"Drug_Name\"].isnull().sum())"
   ]
  },
  {
   "cell_type": "code",
   "execution_count": 32,
   "id": "f5ec133e-078d-4361-8690-ec05c770951b",
   "metadata": {},
   "outputs": [],
   "source": [
    "#fill in the missing variables with Amoxinil in the Drug_name column\n",
    "df[\"Drug_Name\"] = df[\"Drug_Name\"].fillna(value = \"Amoxinil\")"
   ]
  },
  {
   "cell_type": "code",
   "execution_count": 34,
   "id": "1cf8b976-951d-4b1f-b45d-91b89d39115c",
   "metadata": {},
   "outputs": [
    {
     "name": "stdout",
     "output_type": "stream",
     "text": [
      "0\n"
     ]
    }
   ],
   "source": [
    "# check for missing values in Drug_Name again\n",
    "print(df[\"Drug_Name\"].isnull().sum())"
   ]
  },
  {
   "cell_type": "code",
   "execution_count": 36,
   "id": "84b99fab-2426-48e2-ab37-8150a5348c5e",
   "metadata": {},
   "outputs": [
    {
     "name": "stdout",
     "output_type": "stream",
     "text": [
      "215\n"
     ]
    }
   ],
   "source": [
    "# check for missing values in Manufacturer\n",
    "print(df[\"Manufacturer\"].isnull().sum())"
   ]
  },
  {
   "cell_type": "code",
   "execution_count": 38,
   "id": "1c2de445-9847-46cc-8431-a00c9a40ac46",
   "metadata": {},
   "outputs": [],
   "source": [
    "#fill in the missing variables with PharmaCorp in the Manufacturer column\n",
    "df[\"Manufacturer\"] = df[\"Manufacturer\"].fillna(value = \"PharmaCorp\")"
   ]
  },
  {
   "cell_type": "code",
   "execution_count": 41,
   "id": "c989b0b8-489d-4ad1-93f0-471dc443a573",
   "metadata": {},
   "outputs": [
    {
     "name": "stdout",
     "output_type": "stream",
     "text": [
      "0\n"
     ]
    }
   ],
   "source": [
    "# check for missing values in Manufacturer again\n",
    "print(df[\"Manufacturer\"].isnull().sum())"
   ]
  },
  {
   "cell_type": "code",
   "execution_count": 43,
   "id": "f77c5d51-1b4d-4c1c-993b-05db07de03fc",
   "metadata": {},
   "outputs": [
    {
     "name": "stdout",
     "output_type": "stream",
     "text": [
      "368\n"
     ]
    }
   ],
   "source": [
    "# check for missing values in Side_Effects\n",
    "print(df[\"Side_Effects\"].isnull().sum())"
   ]
  },
  {
   "cell_type": "code",
   "execution_count": 45,
   "id": "de6204b6-4f3c-4edf-8232-93805fd2987d",
   "metadata": {},
   "outputs": [],
   "source": [
    "#fill in the missing variables with PharmaCorp in the Manufacturer column\n",
    "df[\"Side_Effects\"] = df[\"Side_Effects\"].fillna(value = \"Allergy\")"
   ]
  },
  {
   "cell_type": "code",
   "execution_count": 47,
   "id": "bd01c670-0ba7-43cf-8612-0d7f962ddfd3",
   "metadata": {},
   "outputs": [
    {
     "name": "stdout",
     "output_type": "stream",
     "text": [
      "0\n"
     ]
    }
   ],
   "source": [
    "# check for missing values in Side_Effects again\n",
    "print(df[\"Side_Effects\"].isnull().sum())"
   ]
  },
  {
   "cell_type": "code",
   "execution_count": 49,
   "id": "fc1391ea-9cb1-4129-a670-f66030955799",
   "metadata": {},
   "outputs": [
    {
     "name": "stdout",
     "output_type": "stream",
     "text": [
      "218\n"
     ]
    }
   ],
   "source": [
    "# check for missing values in Country \n",
    "print(df[\"Country\"].isnull().sum())"
   ]
  },
  {
   "cell_type": "code",
   "execution_count": 51,
   "id": "3b722f37-abc6-47bf-8487-e948b1bdf49c",
   "metadata": {},
   "outputs": [],
   "source": [
    "#fill in the missing variables with Nigeria in the Country column\n",
    "df[\"Country\"] = df[\"Country\"].fillna(value = \"Nigeria\")"
   ]
  },
  {
   "cell_type": "code",
   "execution_count": 53,
   "id": "3293a3d8-ca42-438a-9559-4cfc9a760320",
   "metadata": {},
   "outputs": [
    {
     "name": "stdout",
     "output_type": "stream",
     "text": [
      "0\n"
     ]
    }
   ],
   "source": [
    "# check for missing values in Country again\n",
    "print(df[\"Country\"].isnull().sum())"
   ]
  },
  {
   "cell_type": "code",
   "execution_count": 55,
   "id": "e8fc0ce5-70f6-45b0-bf6f-b0d1ce69e694",
   "metadata": {},
   "outputs": [
    {
     "name": "stdout",
     "output_type": "stream",
     "text": [
      "215\n"
     ]
    }
   ],
   "source": [
    "# isna()\tDetect missing values\tisnull()\n",
    "# notna()\tDetect non-missing values\tnotnull()\n",
    "# isnull()\tSame as isna()\tisna()\n",
    "# notnull()\tSame as notna()\tnotna()\n",
    "print(df[\"Form\"].isna().sum())"
   ]
  },
  {
   "cell_type": "code",
   "execution_count": 57,
   "id": "b9d27d1d-f1d2-47f4-9885-e0c9812e35ef",
   "metadata": {},
   "outputs": [
    {
     "name": "stdout",
     "output_type": "stream",
     "text": [
      "885\n"
     ]
    }
   ],
   "source": [
    "print(df[\"Form\"].notna().sum())"
   ]
  },
  {
   "cell_type": "code",
   "execution_count": 59,
   "id": "f1befa6a-1477-4f83-b51d-7afb93e404c8",
   "metadata": {},
   "outputs": [
    {
     "name": "stdout",
     "output_type": "stream",
     "text": [
      "215\n"
     ]
    }
   ],
   "source": [
    "print(df[\"Form\"].isnull().sum())"
   ]
  },
  {
   "cell_type": "code",
   "execution_count": 61,
   "id": "ec96c7fd-ea27-40ae-94d2-f0a5a251a788",
   "metadata": {},
   "outputs": [
    {
     "name": "stdout",
     "output_type": "stream",
     "text": [
      "885\n"
     ]
    }
   ],
   "source": [
    "print(df[\"Form\"].notnull().sum())"
   ]
  },
  {
   "cell_type": "code",
   "execution_count": null,
   "id": "cddafd7a-eee1-4a1b-8d2e-6101ee5d4846",
   "metadata": {},
   "outputs": [],
   "source": []
  }
 ],
 "metadata": {
  "kernelspec": {
   "display_name": "Python [conda env:base] *",
   "language": "python",
   "name": "conda-base-py"
  },
  "language_info": {
   "codemirror_mode": {
    "name": "ipython",
    "version": 3
   },
   "file_extension": ".py",
   "mimetype": "text/x-python",
   "name": "python",
   "nbconvert_exporter": "python",
   "pygments_lexer": "ipython3",
   "version": "3.11.7"
  }
 },
 "nbformat": 4,
 "nbformat_minor": 5
}
